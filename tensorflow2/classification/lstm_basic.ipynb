{
 "cells": [
  {
   "cell_type": "markdown",
   "metadata": {},
   "source": [
    "# 项目介绍\n",
    "\n",
    "文本二分类示例\n",
    "\n",
    " - 模型架构：`LSTM`\n",
    " - 深度学习框架： `tensorflow2`\n",
    " - 数据集： 中文评论情感分析语料 `chnsenticorp`"
   ]
  },
  {
   "cell_type": "code",
   "execution_count": 1,
   "metadata": {},
   "outputs": [],
   "source": [
    "import os\n",
    "import re\n",
    "import datetime\n",
    "import logging\n",
    "\n",
    "\n",
    "# Disable Tensorflow log information \n",
    "# https://stackoverflow.com/questions/35911252/disable-tensorflow-debugging-information\n",
    "os.environ['TF_CPP_MIN_LOG_LEVEL'] = '3'\n",
    "logging.captureWarnings(True)\n",
    "\n",
    "\n",
    "import tensorflow as tf\n",
    "from tensorflow import keras\n",
    "from tensorflow_text import FastBertTokenizer\n",
    "from paddlenlp.datasets import load_dataset\n",
    "from sklearn.metrics import classification_report\n",
    "import matplotlib.pyplot as plt\n",
    "\n",
    "from zh_nlp_demo.utils.tokenization import FullTokenizer"
   ]
  },
  {
   "cell_type": "markdown",
   "metadata": {},
   "source": [
    "# 1. 加载数据"
   ]
  },
  {
   "cell_type": "code",
   "execution_count": 2,
   "metadata": {},
   "outputs": [
    {
     "name": "stdout",
     "output_type": "stream",
     "text": [
      "训练集样本数量：  9600\n",
      "验证集样本数量：  1200\n",
      "测试集样本数量：  1200\n",
      "训练集样本示例：\n",
      "{'text': '选择珠江花园的原因就是方便，有电动扶梯直接到达海边，周围餐馆、食廊、商场、超市、摊位一应俱全。酒店装修一般，但还算整洁。 泳池在大堂的屋顶，因此很小，不过女儿倒是喜欢。 包的早餐是西式的，还算丰富。 服务吗，一般', 'label': 1, 'qid': ''}\n"
     ]
    }
   ],
   "source": [
    "[train_examples, dev_examples, test_examples] = load_dataset('chnsenticorp', splits=('train', 'dev', 'test'))\n",
    "\n",
    "print('训练集样本数量： ', len(train_examples))\n",
    "print('验证集样本数量： ', len(dev_examples))\n",
    "print('测试集样本数量： ', len(test_examples))\n",
    "\n",
    "print('训练集样本示例：')\n",
    "print(train_examples[0])"
   ]
  },
  {
   "cell_type": "markdown",
   "metadata": {},
   "source": [
    "# Tokenizer\n",
    "\n",
    "\n",
    "中文的 tokenizer 与英语不同，英语一般根据空格拆分就可以得的结果效果就不错，\n",
    "\n",
    "中文的 tokenize 分为两类，一类是基于字的，一类是基于词的。两种方法都各有优缺点：基于字的好处是词典表较小，不容易出现 OOV，但缺点是容易丢失词的的信息；基于词的好处是保留了词的信息，但缺点也很明显，分词质量的好坏对结果影响比较大，另外基于词的 tokenize 容易出现 OOV 的情况。\n",
    "\n",
    "我偏向于使用基于字的 tokenize ，现在的深度学习网络参数都很多，网络也比较深，词的信息模型可以从数据里面学到。\n",
    "\n",
    "\n",
    "几种不同的 Tokenizer 比较\n",
    "\n",
    "`tensorflow.keras.preprocessing.text.Tokenizer`\n",
    "\n",
    "调研发现，tensorflow 提供的标准 Tokenizer 对中文支持的都有限，需要对句子先进行分词，或者按字拆开，若句子中有英文、数字等也会拆为单个字符。\n",
    "\n",
    "\n",
    "`text.fast_bert_tokenizer`\n",
    "\n",
    "中文处理比较好\n",
    "返回的数据类型为 tf.RaggedTensor\n",
    "返回的数据中包含 CLS 标签\n",
    "\n",
    "\n",
    "`bert 原版代码中的 tokenizer`\n",
    "\n",
    "https://github.com/google-research/bert/blob/master/tokenization.py\n",
    "\n",
    "中文处理比较好\n",
    "可以做到仅依赖python标准库\n",
    "\n",
    "鉴于上述的 Tokenizer 我自己对 `bert 原版代码中的 tokenizer` 进行修改，主要是移除了 支持 Python2 的代码，以及跟 tensorflow 相关的代码。这样，就可以用在不同的框架中。"
   ]
  },
  {
   "cell_type": "code",
   "execution_count": 3,
   "metadata": {},
   "outputs": [
    {
     "name": "stdout",
     "output_type": "stream",
     "text": [
      "[   0    0    0    0    0    0    0    0    0    0    0    0    0    0\n",
      "    0    0    0    0    0    0    0    0    0    0    0    0    0    0\n",
      "    0    0    0    0    0    0    0    0    0    0    0    0    0    0\n",
      "    0    0    0    0    0    0    0    0    0    0    0    0    0    0\n",
      "    0    0    0    0    0    0    0    0    0    0    0    0    0    0\n",
      "    0    0    0    0    0    0    0    0    0    0    0    0    0    0\n",
      "    0    0    0    0    0    0    0    0    0    0    0    0    0 6848\n",
      " 2885 4403 3736 5709 1736 4638 1333 1728 2218 3221 3175  912 8024 3300\n",
      " 4510 1220 2820 3461 4684 2970 1168 6809 3862 6804 8024 1453 1741 7623\n",
      " 7667  510 7608 2443  510 1555 1767  510 6631 2356  510 3033  855  671\n",
      " 2418  936 1059  511 6983 2421 6163  934  671 5663 8024  852 6820 5050\n",
      " 3146 3815  511 3807 3737 1762 1920 1828 4638 2238 7553 8024 1728 3634\n",
      " 2523 2207 8024  679 6814 1957 1036  948 3221 1599 3614  511 1259 4638\n",
      " 3193 7623 3221 6205 2466 4638 8024 6820 5050  705 2168  511 3302 1218\n",
      " 1408 8024  671 5663]\n",
      "[0. 1.]\n"
     ]
    }
   ],
   "source": [
    "tokenizer = FullTokenizer('../../pre_train/tensorflow/Chinese_BERT_wwm/RoBERTa-wwm-ext/vocab.txt')\n",
    "\n",
    "def examples_to_ids(tokenizer, examples, maxlen=200, num_classes=2):\n",
    "    tokens = [tokenizer.tokenize(example['text']) for example in examples]\n",
    "    input_ids = [tokenizer.convert_tokens_to_ids(tokens) for tokens in tokens]\n",
    "    input_x = keras.preprocessing.sequence.pad_sequences(input_ids, maxlen=maxlen)\n",
    "\n",
    "    input_y = keras.utils.to_categorical([example['label'] for example in examples], num_classes=num_classes)\n",
    "\n",
    "    return input_x, input_y\n",
    "\n",
    "\n",
    "train_x, train_y = examples_to_ids(tokenizer, train_examples)\n",
    "dev_x, dev_y = examples_to_ids(tokenizer, train_examples)\n",
    "test_x, test_y = examples_to_ids(tokenizer, train_examples)\n",
    "\n",
    "print(train_x[0])\n",
    "print(train_y[0])"
   ]
  },
  {
   "cell_type": "markdown",
   "metadata": {},
   "source": [
    "# 构建模型\n",
    "\n",
    "模型架构为 两层双向LSTM模型和一个全连接层"
   ]
  },
  {
   "cell_type": "code",
   "execution_count": 4,
   "metadata": {},
   "outputs": [
    {
     "name": "stdout",
     "output_type": "stream",
     "text": [
      "Model: \"sequential\"\n",
      "_________________________________________________________________\n",
      " Layer (type)                Output Shape              Param #   \n",
      "=================================================================\n",
      " embedding (Embedding)       (None, None, 128)         2704384   \n",
      "                                                                 \n",
      " bidirectional (Bidirectiona  (None, None, 256)        263168    \n",
      " l)                                                              \n",
      "                                                                 \n",
      " bidirectional_1 (Bidirectio  (None, 256)              394240    \n",
      " nal)                                                            \n",
      "                                                                 \n",
      " dense (Dense)               (None, 128)               32896     \n",
      "                                                                 \n",
      " dropout (Dropout)           (None, 128)               0         \n",
      "                                                                 \n",
      " dense_1 (Dense)             (None, 2)                 258       \n",
      "                                                                 \n",
      "=================================================================\n",
      "Total params: 3,394,946\n",
      "Trainable params: 3,394,946\n",
      "Non-trainable params: 0\n",
      "_________________________________________________________________\n"
     ]
    }
   ],
   "source": [
    "vocab_size = len(tokenizer.vocab)\n",
    "embedding_dim = 128\n",
    "\n",
    "model = keras.Sequential([\n",
    "    keras.layers.Embedding(vocab_size, embedding_dim, mask_zero=True),\n",
    "    keras.layers.Bidirectional(keras.layers.LSTM(embedding_dim, dropout=0.5, recurrent_dropout=0.5, return_sequences=True)),\n",
    "    keras.layers.Bidirectional(keras.layers.LSTM(embedding_dim, dropout=0.5, recurrent_dropout=0.5)),\n",
    "    keras.layers.Dense(embedding_dim, activation='relu'),\n",
    "    keras.layers.Dropout(0.5),\n",
    "    keras.layers.Dense(2, activation='softmax')\n",
    "])\n",
    "\n",
    "model.summary()"
   ]
  },
  {
   "cell_type": "code",
   "execution_count": 5,
   "metadata": {},
   "outputs": [],
   "source": [
    "# 启动 tensorboard\n",
    "\n",
    "# Load the TensorBoard notebook extension\n",
    "%load_ext tensorboard\n",
    "\n",
    "# %tensorboard --logdir logs"
   ]
  },
  {
   "cell_type": "code",
   "execution_count": 6,
   "metadata": {},
   "outputs": [
    {
     "name": "stdout",
     "output_type": "stream",
     "text": [
      "Epoch 1/20\n",
      "300/300 - 206s - loss: 0.4622 - accuracy: 0.7811 - val_loss: 0.2983 - val_accuracy: 0.8829 - 206s/epoch - 685ms/step\n",
      "Epoch 2/20\n",
      "300/300 - 197s - loss: 0.3337 - accuracy: 0.8687 - val_loss: 0.2436 - val_accuracy: 0.9071 - 197s/epoch - 655ms/step\n",
      "Epoch 3/20\n",
      "300/300 - 196s - loss: 0.2800 - accuracy: 0.8961 - val_loss: 0.2040 - val_accuracy: 0.9301 - 196s/epoch - 654ms/step\n",
      "Epoch 4/20\n",
      "300/300 - 196s - loss: 0.2324 - accuracy: 0.9149 - val_loss: 0.1574 - val_accuracy: 0.9532 - 196s/epoch - 655ms/step\n",
      "Epoch 5/20\n",
      "300/300 - 197s - loss: 0.1964 - accuracy: 0.9304 - val_loss: 0.1344 - val_accuracy: 0.9536 - 197s/epoch - 655ms/step\n",
      "Epoch 6/20\n",
      "300/300 - 198s - loss: 0.1761 - accuracy: 0.9392 - val_loss: 0.1021 - val_accuracy: 0.9679 - 198s/epoch - 661ms/step\n",
      "Epoch 7/20\n",
      "300/300 - 196s - loss: 0.1481 - accuracy: 0.9486 - val_loss: 0.1089 - val_accuracy: 0.9571 - 196s/epoch - 653ms/step\n",
      "Epoch 8/20\n",
      "300/300 - 196s - loss: 0.1206 - accuracy: 0.9606 - val_loss: 0.0594 - val_accuracy: 0.9830 - 196s/epoch - 652ms/step\n",
      "Epoch 9/20\n",
      "300/300 - 196s - loss: 0.1276 - accuracy: 0.9565 - val_loss: 0.0827 - val_accuracy: 0.9750 - 196s/epoch - 653ms/step\n",
      "Epoch 10/20\n",
      "300/300 - 197s - loss: 0.1023 - accuracy: 0.9639 - val_loss: 0.0430 - val_accuracy: 0.9877 - 197s/epoch - 657ms/step\n",
      "Epoch 11/20\n",
      "300/300 - 195s - loss: 0.0762 - accuracy: 0.9744 - val_loss: 0.0472 - val_accuracy: 0.9821 - 195s/epoch - 650ms/step\n",
      "Epoch 12/20\n",
      "300/300 - 197s - loss: 0.0742 - accuracy: 0.9729 - val_loss: 0.0277 - val_accuracy: 0.9918 - 197s/epoch - 656ms/step\n",
      "Epoch 13/20\n",
      "300/300 - 195s - loss: 0.0661 - accuracy: 0.9769 - val_loss: 0.0265 - val_accuracy: 0.9907 - 195s/epoch - 649ms/step\n",
      "Epoch 14/20\n",
      "300/300 - 194s - loss: 0.0717 - accuracy: 0.9756 - val_loss: 0.0354 - val_accuracy: 0.9878 - 194s/epoch - 648ms/step\n",
      "Epoch 15/20\n",
      "300/300 - 193s - loss: 0.1038 - accuracy: 0.9607 - val_loss: 0.0561 - val_accuracy: 0.9797 - 193s/epoch - 644ms/step\n",
      "Epoch 16/20\n",
      "300/300 - 196s - loss: 0.0624 - accuracy: 0.9778 - val_loss: 0.0229 - val_accuracy: 0.9918 - 196s/epoch - 653ms/step\n",
      "Epoch 17/20\n",
      "300/300 - 195s - loss: 0.0599 - accuracy: 0.9771 - val_loss: 0.0404 - val_accuracy: 0.9849 - 195s/epoch - 651ms/step\n",
      "Epoch 18/20\n",
      "300/300 - 195s - loss: 0.0431 - accuracy: 0.9846 - val_loss: 0.0156 - val_accuracy: 0.9937 - 195s/epoch - 652ms/step\n",
      "Epoch 19/20\n",
      "300/300 - 193s - loss: 0.0480 - accuracy: 0.9829 - val_loss: 0.0861 - val_accuracy: 0.9689 - 193s/epoch - 645ms/step\n",
      "Epoch 20/20\n",
      "300/300 - 194s - loss: 0.0465 - accuracy: 0.9830 - val_loss: 0.0240 - val_accuracy: 0.9915 - 194s/epoch - 646ms/step\n"
     ]
    }
   ],
   "source": [
    "model.compile(loss=keras.losses.CategoricalCrossentropy(from_logits=True), optimizer='adam', metrics=['accuracy'])\n",
    "# model.compile(loss=keras.losses.BinaryCrossentropy(from_logits=True), optimizer='adam', metrics=['accuracy'])\n",
    "\n",
    "num_epochs = 20\n",
    "\n",
    "logdir = os.path.join(\"logs\", datetime.datetime.now().strftime(\"%Y%m%d-%H%M%S\"))\n",
    "tensorboard_callback = tf.keras.callbacks.TensorBoard(logdir, histogram_freq=1)\n",
    "\n",
    "history = model.fit(train_x, train_y, epochs=num_epochs, validation_data=(dev_x, dev_y), verbose=2, callbacks=[tensorboard_callback])"
   ]
  },
  {
   "cell_type": "code",
   "execution_count": 7,
   "metadata": {},
   "outputs": [
    {
     "data": {
      "text/plain": [
       "(0.0, 0.48456650469452145)"
      ]
     },
     "execution_count": 7,
     "metadata": {},
     "output_type": "execute_result"
    },
    {
     "data": {
      "image/png": "[encoded data removed]",
      "text/plain": [
       "<Figure size 1152x576 with 2 Axes>"
      ]
     },
     "metadata": {
      "needs_background": "light"
     },
     "output_type": "display_data"
    }
   ],
   "source": [
    "# 直接看 tensorboard 效果更好\n",
    "\n",
    "def plot_graphs(history, metric):\n",
    "    plt.plot(history.history[metric])\n",
    "    plt.plot(history.history['val_'+metric], '')\n",
    "    plt.xlabel(\"Epochs\")\n",
    "    plt.ylabel(metric)\n",
    "    plt.legend([metric, 'val_'+metric])\n",
    "  \n",
    "\n",
    "plt.figure(figsize=(16, 8))\n",
    "plt.subplot(1, 2, 1)\n",
    "plot_graphs(history, 'accuracy')\n",
    "plt.ylim(None, 1)\n",
    "plt.subplot(1, 2, 2)\n",
    "plot_graphs(history, 'loss')\n",
    "plt.ylim(0, None)"
   ]
  },
  {
   "cell_type": "code",
   "execution_count": 8,
   "metadata": {},
   "outputs": [
    {
     "name": "stdout",
     "output_type": "stream",
     "text": [
      "300/300 [==============================] - 27s 89ms/step\n",
      "              precision    recall  f1-score   support\n",
      "\n",
      "           0       0.99      0.99      0.99      4801\n",
      "           1       0.99      0.99      0.99      4799\n",
      "\n",
      "    accuracy                           0.99      9600\n",
      "   macro avg       0.99      0.99      0.99      9600\n",
      "weighted avg       0.99      0.99      0.99      9600\n",
      "\n"
     ]
    }
   ],
   "source": [
    "pred_result = model.predict(test_x)\n",
    "pred_y = pred_result.argmax(axis=1)\n",
    "test_y = test_y.argmax(axis=1)\n",
    "print(classification_report(test_y, pred_y))"
   ]
  }
 ],
 "metadata": {
  "kernelspec": {
   "display_name": "Python 3.7.13",
   "language": "python",
   "name": "python3"
  },
  "language_info": {
   "codemirror_mode": {
    "name": "ipython",
    "version": 3
   },
   "file_extension": ".py",
   "mimetype": "text/x-python",
   "name": "python",
   "nbconvert_exporter": "python",
   "pygments_lexer": "ipython3",
   "version": "3.7.13"
  },
  "orig_nbformat": 4,
  "vscode": {
   "interpreter": {
    "hash": "cd39684bf14d2ca810b716d1040a79cb607a6203677f215342fe701ca54ee1b0"
   }
  }
 },
 "nbformat": 4,
 "nbformat_minor": 2
}
